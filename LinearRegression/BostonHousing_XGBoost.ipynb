{
 "cells": [
  {
   "cell_type": "code",
   "execution_count": 3,
   "id": "5229eccc-e8fc-432d-9f2d-1c37d1980b66",
   "metadata": {},
   "outputs": [],
   "source": [
    "from sklearn.model_selection import train_test_split\n",
    "from xgboost import XGBRegressor\n",
    "from sklearn.metrics import mean_squared_error\n",
    "import pandas as pd\n",
    "import numpy as np"
   ]
  },
  {
   "cell_type": "code",
   "execution_count": 4,
   "id": "c428af4a-6d89-4fea-97f7-e44a644b5897",
   "metadata": {},
   "outputs": [],
   "source": [
    "from sklearn.datasets import fetch_california_housing\n",
    "from sklearn.metrics import r2_score"
   ]
  },
  {
   "cell_type": "code",
   "execution_count": 23,
   "id": "cd28605b-966e-4903-9cb5-80dd4e412d73",
   "metadata": {},
   "outputs": [],
   "source": [
    "ds = fetch_california_housing()"
   ]
  },
  {
   "cell_type": "code",
   "execution_count": 25,
   "id": "78a8f0f2-5a25-45ba-be86-859803927b57",
   "metadata": {},
   "outputs": [],
   "source": [
    "df = pd.DataFrame(ds.data , columns = ds.feature_names)\n",
    "y = pd.DataFrame(ds.target ,  columns = ds.target_names)"
   ]
  },
  {
   "cell_type": "code",
   "execution_count": 27,
   "id": "9cb94f26-bd82-437f-ab7a-8c6d262aef98",
   "metadata": {},
   "outputs": [],
   "source": [
    "Q1 = np.percentile(y, 25)  # 25th percentile\n",
    "Q3 = np.percentile(y, 75)  # 75th percentile\n",
    "IQR = Q3 - Q1  # Interquartile Range\n",
    "\n",
    "# Define outlier limits\n",
    "lower_bound = Q1 - 1.5 * IQR\n",
    "upper_bound = Q3 + 1.5 * IQR\n",
    "\n",
    "# Get boolean mask for outliers\n",
    "outlier_mask = (y < lower_bound) | (y > upper_bound)\n",
    "\n",
    "outlier_indices = np.where((y < lower_bound) | (y > upper_bound))[0]"
   ]
  },
  {
   "cell_type": "code",
   "execution_count": 29,
   "id": "c58e14cc-463c-4732-b5a1-ffcc0438435f",
   "metadata": {},
   "outputs": [
    {
     "data": {
      "text/plain": [
       "1071"
      ]
     },
     "execution_count": 29,
     "metadata": {},
     "output_type": "execute_result"
    }
   ],
   "source": [
    "len(outlier_indices)"
   ]
  },
  {
   "cell_type": "code",
   "execution_count": 31,
   "id": "f41a7732-e634-470c-9b4f-5388d0a02e5e",
   "metadata": {},
   "outputs": [],
   "source": [
    "df_clean = df.drop(index=outlier_indices).reset_index(drop=True)\n",
    "y_clean = y.drop(index=outlier_indices).reset_index(drop=True)"
   ]
  },
  {
   "cell_type": "code",
   "execution_count": 33,
   "id": "bf23a936-83b5-49f6-bb8a-719eb7f2c8bd",
   "metadata": {},
   "outputs": [],
   "source": [
    "from sklearn.model_selection import train_test_split\n",
    "x_train , x_test , y_train , y_test = train_test_split(df_clean , y_clean , test_size=0.3, random_state=42)"
   ]
  },
  {
   "cell_type": "code",
   "execution_count": 35,
   "id": "2b84064e-b284-4723-bf83-aed93cac81b5",
   "metadata": {},
   "outputs": [],
   "source": [
    "from sklearn.preprocessing import StandardScaler\n",
    "scaler = StandardScaler()\n",
    "x_trian = scaler.fit_transform(x_train)\n",
    "x_test = scaler.transform(x_test)"
   ]
  },
  {
   "cell_type": "code",
   "execution_count": 21,
   "id": "4b7db5ba-0ef2-4fb9-9e23-6908033dd219",
   "metadata": {},
   "outputs": [
    {
     "name": "stdout",
     "output_type": "stream",
     "text": [
      "XGBoost R² Score: -0.5807241201400757\n",
      "<class 'function'>\n"
     ]
    }
   ],
   "source": [
    "from xgboost import XGBRegressor\n",
    "from sklearn.metrics import r2_score\n",
    "\n",
    "xgb_model = XGBRegressor(n_estimators=300, learning_rate=0.05, random_state = 42)\n",
    "xgb_model.fit(x_train, y_train)\n",
    "y_pred = xgb_model.predict(x_test)\n",
    "print(\"XGBoost R² Score:\", r2_score(y_test, y_pred))\n",
    "print(type(r2_score))  # Should print: <class 'function'>\n"
   ]
  },
  {
   "cell_type": "code",
   "execution_count": 39,
   "id": "0e3f16a1-412f-4530-a966-de4bcf058337",
   "metadata": {},
   "outputs": [
    {
     "name": "stdout",
     "output_type": "stream",
     "text": [
      "Fitting 3 folds for each of 243 candidates, totalling 729 fits\n"
     ]
    },
    {
     "name": "stderr",
     "output_type": "stream",
     "text": [
      "C:\\Users\\Asus\\anaconda3\\Lib\\site-packages\\numpy\\ma\\core.py:2820: RuntimeWarning: invalid value encountered in cast\n",
      "  _data = np.array(data, dtype=dtype, copy=copy,\n"
     ]
    },
    {
     "name": "stdout",
     "output_type": "stream",
     "text": [
      "Best Parameters:  {'colsample_bytree': 0.8, 'learning_rate': 0.1, 'max_depth': 7, 'n_estimators': 300, 'random_state': 42, 'subsample': 1}\n",
      "Best R² Score:  0.808232843875885\n",
      "0.9486081370449679\n"
     ]
    }
   ],
   "source": [
    "from sklearn.model_selection import GridSearchCV\n",
    "\n",
    "param_grid = {\n",
    "    'n_estimators': [100, 200, 300],\n",
    "    'learning_rate': [0.01, 0.05, 0.1],\n",
    "    'max_depth': [3, 5, 7],\n",
    "    'subsample': [0.7, 0.8, 1],\n",
    "    'colsample_bytree': [0.8, 0.9, 1],\n",
    "    'random_state' : [42]\n",
    "}\n",
    "\n",
    "xgb_model = XGBRegressor()\n",
    "\n",
    "grid_search = GridSearchCV(estimator=xgb_model, param_grid=param_grid, cv=3, n_jobs=-1, verbose=2)\n",
    "grid_search.fit(x_train, y_train)\n",
    "\n",
    "# Best parameters\n",
    "print(\"Best Parameters: \", grid_search.best_params_)\n",
    "print(\"Best R² Score: \", grid_search.best_score_)\n"
   ]
  },
  {
   "cell_type": "code",
   "execution_count": 95,
   "id": "0ea1e4e1-f664-4d47-a62c-38934e09caef",
   "metadata": {},
   "outputs": [
    {
     "data": {
      "text/plain": [
       "5871"
      ]
     },
     "execution_count": 95,
     "metadata": {},
     "output_type": "execute_result"
    }
   ],
   "source": [
    "len(x_test)"
   ]
  },
  {
   "cell_type": "code",
   "execution_count": 40,
   "id": "e5905768-b354-47d3-b1fb-9cb1ca2ddc95",
   "metadata": {},
   "outputs": [
    {
     "name": "stdout",
     "output_type": "stream",
     "text": [
      "0.9486081370449679\n"
     ]
    }
   ],
   "source": [
    "from xgboost import XGBRegressor\n",
    "\n",
    "xgb_model2 = XGBRegressor(colsample_bytree=0.8, learning_rate= 0.1, max_depth= 7, n_estimators= 300, random_state= 42, subsample= 1)\n",
    "xgb_model2.fit(x_train, y_train)\n",
    "xgb_model2_pred = xgb_model2.predict(x_test)\n",
    "\n",
    "from sklearn.metrics import r2_score\n",
    "import numpy as np\n",
    "\n",
    "y_true = [3, -0.5, 2, 7]\n",
    "y_pred = [2.5, 0.0, 2, 8]\n",
    "r2 = r2_score(y_true, y_pred)\n",
    "print(r2)  # Output should be approximately 0.948"
   ]
  },
  {
   "cell_type": "code",
   "execution_count": 51,
   "id": "7738a2f6-55d4-4815-b7e4-b6bfdb02f4d4",
   "metadata": {},
   "outputs": [
    {
     "data": {
      "text/plain": [
       "-0.6453078985214233"
      ]
     },
     "execution_count": 51,
     "metadata": {},
     "output_type": "execute_result"
    }
   ],
   "source": [
    "r2_score(y_test, grid_search.predict(x_test))"
   ]
  },
  {
   "cell_type": "code",
   "execution_count": 41,
   "id": "6416d1e0-12e1-4022-a63b-df333ab4060a",
   "metadata": {},
   "outputs": [
    {
     "name": "stdout",
     "output_type": "stream",
     "text": [
      "-0.016631739294136638\n"
     ]
    },
    {
     "name": "stderr",
     "output_type": "stream",
     "text": [
      "C:\\Users\\Asus\\anaconda3\\Lib\\site-packages\\sklearn\\base.py:493: UserWarning: X does not have valid feature names, but DecisionTreeRegressor was fitted with feature names\n",
      "  warnings.warn(\n"
     ]
    }
   ],
   "source": [
    "from sklearn.tree import DecisionTreeRegressor\n",
    "tree_model = DecisionTreeRegressor(max_depth=5)  # Tune depth\n",
    "tree_model.fit(x_train, y_train)\n",
    "y_pred = tree_model.predict(x_test)\n",
    "print(r2_score(y_test , y_pred))"
   ]
  },
  {
   "cell_type": "code",
   "execution_count": null,
   "id": "302e68ef-5eaf-476d-b1ce-a6cdf62832c8",
   "metadata": {},
   "outputs": [],
   "source": []
  }
 ],
 "metadata": {
  "kernelspec": {
   "display_name": "Python [conda env:base] *",
   "language": "python",
   "name": "conda-base-py"
  },
  "language_info": {
   "codemirror_mode": {
    "name": "ipython",
    "version": 3
   },
   "file_extension": ".py",
   "mimetype": "text/x-python",
   "name": "python",
   "nbconvert_exporter": "python",
   "pygments_lexer": "ipython3",
   "version": "3.12.7"
  }
 },
 "nbformat": 4,
 "nbformat_minor": 5
}
